{
 "cells": [
  {
   "cell_type": "markdown",
   "id": "a3a1cb4c-1bbc-49a7-857f-ea6b19137a43",
   "metadata": {},
   "source": [
    "# Data Science Tools and Ecosystem"
   ]
  },
  {
   "cell_type": "markdown",
   "id": "52f9f0ab-f170-40a0-a8ee-9be24f8bc962",
   "metadata": {},
   "source": [
    "In this notebook, Data Science Tools and Ecosystem are summarized."
   ]
  },
  {
   "cell_type": "markdown",
   "id": "fee90452-81fb-4d0b-8385-c46391839d38",
   "metadata": {},
   "source": [
    "**Objectives:**\n",
    "\n",
    "- Python\n",
    " - R\n",
    "  - SQL\n",
    "- java"
   ]
  },
  {
   "cell_type": "markdown",
   "id": "466a5487-90ec-45d1-baf7-de29f1ef0bd1",
   "metadata": {},
   "source": [
    "Some of the popular languages that Data Scientists use are:"
   ]
  },
  {
   "cell_type": "markdown",
   "id": "d0fe6f40-cdc7-4365-9946-ef03b68517a7",
   "metadata": {},
   "source": [
    "1. Python\n",
    "2. R\n",
    "3. SQL\n",
    "4. JAVA\n"
   ]
  },
  {
   "cell_type": "markdown",
   "id": "509fe678-1d81-4798-be33-896977860f60",
   "metadata": {},
   "source": [
    "Some of the commonly used libraries used by Data Scientists include:"
   ]
  },
  {
   "cell_type": "markdown",
   "id": "bbebb0ac-9bb2-4024-b787-c67c85342d1d",
   "metadata": {},
   "source": [
    "1. Matpoltlib\n",
    "2. Numpy\n",
    "3. Scipy\n",
    "4. Scikitlearn"
   ]
  },
  {
   "cell_type": "markdown",
   "id": "0345d988-2bb6-4907-937a-02c272663faf",
   "metadata": {},
   "source": [
    "| Data Science Tools | \n",
    "|--------------------|\n",
    "| 1.Jupiter notebook               |\n",
    "| 2.Jupiterlab                |\n",
    "| 3.RStudio                 |"
   ]
  },
  {
   "cell_type": "markdown",
   "id": "2989972a-9d88-4075-abf0-b903e14c2eca",
   "metadata": {},
   "source": [
    "### Below are a few examples of evaluating arithmetic expressions in Python"
   ]
  },
  {
   "cell_type": "markdown",
   "id": "d90db830-a25e-46d0-b8c6-0f8787846f9b",
   "metadata": {},
   "source": [
    "This a simple arithmetic expression to mutiply then add integers"
   ]
  },
  {
   "cell_type": "code",
   "execution_count": 1,
   "id": "fc418368-4081-4ddc-8598-f179c955fcc8",
   "metadata": {
    "tags": []
   },
   "outputs": [
    {
     "data": {
      "text/plain": [
       "17"
      ]
     },
     "execution_count": 1,
     "metadata": {},
     "output_type": "execute_result"
    }
   ],
   "source": [
    "(3*4)+5"
   ]
  },
  {
   "cell_type": "markdown",
   "id": "9ab4475a-5579-4834-8294-20bf510c4f7b",
   "metadata": {},
   "source": [
    "This will convert 200 minutes to hours by diving by 60"
   ]
  },
  {
   "cell_type": "code",
   "execution_count": 5,
   "id": "558325c2-62fd-4160-bd3c-895d9024b831",
   "metadata": {},
   "outputs": [
    {
     "data": {
      "text/plain": [
       "3"
      ]
     },
     "execution_count": 5,
     "metadata": {},
     "output_type": "execute_result"
    }
   ],
   "source": [
    "200//60"
   ]
  },
  {
   "cell_type": "code",
   "execution_count": 6,
   "id": "092779a8-8157-4e7e-9ce2-e84657901293",
   "metadata": {},
   "outputs": [
    {
     "data": {
      "text/plain": [
       "3.3333333333333335"
      ]
     },
     "execution_count": 6,
     "metadata": {},
     "output_type": "execute_result"
    }
   ],
   "source": [
    "200/60"
   ]
  },
  {
   "cell_type": "markdown",
   "id": "b3cfe0f9-de79-4c20-b08c-83b2eea1e7e4",
   "metadata": {},
   "source": [
    "## Author "
   ]
  },
  {
   "cell_type": "markdown",
   "id": "ef9d076e-a217-4ad0-95db-c9cc248479c2",
   "metadata": {},
   "source": [
    "Sajad Motalebzadeh"
   ]
  }
 ],
 "metadata": {
  "kernelspec": {
   "display_name": "Python 3 (ipykernel)",
   "language": "python",
   "name": "python3"
  },
  "language_info": {
   "codemirror_mode": {
    "name": "ipython",
    "version": 3
   },
   "file_extension": ".py",
   "mimetype": "text/x-python",
   "name": "python",
   "nbconvert_exporter": "python",
   "pygments_lexer": "ipython3",
   "version": "3.10.9"
  }
 },
 "nbformat": 4,
 "nbformat_minor": 5
}
